{
  "nbformat": 4,
  "nbformat_minor": 0,
  "metadata": {
    "colab": {
      "name": "model.ipynb",
      "private_outputs": true,
      "provenance": [],
      "collapsed_sections": [],
      "mount_file_id": "1gR1cfPwDUivwipy0-i0fNBrkw37eavCN",
      "authorship_tag": "ABX9TyOTqSXzJ87w/7e2GITP/d/h",
      "include_colab_link": true
    },
    "kernelspec": {
      "name": "python3",
      "display_name": "Python 3"
    },
    "language_info": {
      "name": "python"
    },
    "accelerator": "GPU"
  },
  "cells": [
    {
      "cell_type": "markdown",
      "metadata": {
        "id": "view-in-github",
        "colab_type": "text"
      },
      "source": [
        "<a href=\"https://colab.research.google.com/github/RyuSw-cs/ImageClassify/blob/master/model.ipynb\" target=\"_parent\"><img src=\"https://colab.research.google.com/assets/colab-badge.svg\" alt=\"Open In Colab\"/></a>"
      ]
    },
    {
      "cell_type": "code",
      "metadata": {
        "id": "XNgSJONZ-DPr"
      },
      "source": [
        "import os\n",
        "import zipfile\n",
        "\n",
        "#압축파일 해제\n",
        "zip_file = '/content/drive/MyDrive/garbage_classification/garbage_data.zip'\n",
        "\n",
        "zip_open = zipfile.ZipFile(zip_file,'r')\n",
        "zip_open.extractall('/classification')\n",
        "\n",
        "zip_open.close()"
      ],
      "execution_count": null,
      "outputs": []
    },
    {
      "cell_type": "code",
      "metadata": {
        "id": "bWGFFUJjADoK"
      },
      "source": [
        "#훈련, 테스트, 평가 데이터 경로 지정\n",
        "\n",
        "base_dir = '/classification'\n",
        "\n",
        "train_dir = os.path.join(base_dir,\"train\")\n",
        "test_dir = os.path.join(base_dir,\"test\")\n",
        "validation_dir = os.path.join(base_dir,\"validation\")\n",
        "\n",
        "train_battery_dir = os.path.join(train_dir,\"battery\")\n",
        "train_biological_dir = os.path.join(train_dir,\"biological\")\n",
        "train_brownglass_dir = os.path.join(train_dir,\"brownglass\")\n",
        "train_cardboard_dir = os.path.join(train_dir,\"cardborad\")\n",
        "train_clothes_dir = os.path.join(train_dir,\"clothes\")\n",
        "train_greenglass_dir = os.path.join(train_dir,\"greenglass\")\n",
        "train_metal_dir = os.path.join(train_dir,\"metal\")\n",
        "train_paper_dir = os.path.join(train_dir,\"paper\")\n",
        "train_plastic_dir = os.path.join(train_dir,\"plastic\")\n",
        "train_shoes_dir = os.path.join(train_dir,\"shoes\")\n",
        "train_trash_dir = os.path.join(train_dir,\"trash\")\n",
        "train_whiteglass_dir = os.path.join(train_dir,\"whiteglass\")\n",
        "\n",
        "test_battery_dir = os.path.join(test_dir,\"battery\")\n",
        "test_biological_dir = os.path.join(test_dir,\"biological\")\n",
        "test_brownglass_dir = os.path.join(test_dir,\"brownglass\")\n",
        "test_cardboard_dir = os.path.join(test_dir,\"cardborad\")\n",
        "test_clothes_dir = os.path.join(test_dir,\"clothes\")\n",
        "test_greenglass_dir = os.path.join(test_dir,\"greenglass\")\n",
        "test_metal_dir = os.path.join(test_dir,\"metal\")\n",
        "test_paper_dir = os.path.join(test_dir,\"paper\")\n",
        "test_plastic_dir = os.path.join(test_dir,\"plastic\")\n",
        "test_shoes_dir = os.path.join(test_dir,\"shoes\")\n",
        "test_trash_dir = os.path.join(test_dir,\"trash\")\n",
        "test_whiteglass_dir = os.path.join(test_dir,\"whiteglass\")\n",
        "\n",
        "validation_battery_dir = os.path.join(validation_dir,\"battery\")\n",
        "validation_biological_dir = os.path.join(validation_dir,\"biological\")\n",
        "validation_brownglass_dir = os.path.join(validation_dir,\"brown-glass\")\n",
        "validation_cardboard_dir = os.path.join(validation_dir,\"cardboard\")\n",
        "validation_clothes_dir = os.path.join(validation_dir,\"clothes\")\n",
        "validation_greenglass_dir = os.path.join(validation_dir,\"green-glass\")\n",
        "validation_metal_dir = os.path.join(validation_dir,\"metal\")\n",
        "validation_paper_dir = os.path.join(validation_dir,\"paper\")\n",
        "validation_plastic_dir = os.path.join(validation_dir,\"plastic\")\n",
        "validation_shoes_dir = os.path.join(validation_dir,\"shoes\")\n",
        "validation_trash_dir = os.path.join(validation_dir,\"trash\")\n",
        "validation_whiteglass_dir = os.path.join(validation_dir,\"white-glass\")\n",
        "\n",
        "# 데이터 셋 확인\n",
        "print(\"훈련용 데이터 셋 : \", len(os.listdir(validation_battery_dir)))\n",
        "print(\"훈련용 데이터 셋 : \", len(os.listdir(validation_biological_dir)))\n",
        "print(\"훈련용 데이터 셋 : \", len(os.listdir(validation_brownglass_dir)))\n",
        "print(\"훈련용 데이터 셋 : \", len(os.listdir(validation_cardboard_dir)))\n",
        "print(\"훈련용 데이터 셋 : \", len(os.listdir(validation_clothes_dir)))\n",
        "print(\"훈련용 데이터 셋 : \", len(os.listdir(validation_greenglass_dir)))\n",
        "print(\"훈련용 데이터 셋 : \", len(os.listdir(validation_metal_dir)))\n",
        "print(\"훈련용 데이터 셋 : \", len(os.listdir(validation_paper_dir)))\n",
        "print(\"훈련용 데이터 셋 : \", len(os.listdir(validation_plastic_dir)))\n",
        "print(\"훈련용 데이터 셋 : \", len(os.listdir(validation_shoes_dir)))\n",
        "print(\"훈련용 데이터 셋 : \", len(os.listdir(validation_trash_dir)))\n",
        "print(\"훈련용 데이터 셋 : \", len(os.listdir(validation_whiteglass_dir)))\n"
      ],
      "execution_count": null,
      "outputs": []
    },
    {
      "cell_type": "code",
      "metadata": {
        "id": "Zyy_CNHvAznq"
      },
      "source": [
        "print(\"훈련용 데이터 셋 : \", len(os.listdir(train_battery_dir)))"
      ],
      "execution_count": null,
      "outputs": []
    },
    {
      "cell_type": "code",
      "metadata": {
        "id": "OqZ7mp1DCnkd"
      },
      "source": [
        "from keras.preprocessing.image import ImageDataGenerator\n",
        "\n",
        "train_datagen = ImageDataGenerator(rescale=1./255)\n",
        "test_datagen = ImageDataGenerator(rescale=1./255)\n",
        "\n",
        "train_generator = train_datagen.flow_from_directory(\n",
        "    train_dir,\n",
        "    target_size = (150,150),\n",
        "    batch_size = 20,\n",
        "    class_mode = \"categorical\"\n",
        ")\n",
        "test_generator = test_datagen.flow_from_directory(\n",
        "    #train 경로\n",
        "    test_dir,\n",
        "    #어떤 사이즈로?\n",
        "    target_size = (150,150),\n",
        "    #전처리는 몇개 씩?\n",
        "    batch_size = 20,\n",
        "    #다중 라벨링(카테고리가 3개 이상)\n",
        "    class_mode = \"categorical\"\n",
        ")"
      ],
      "execution_count": null,
      "outputs": []
    },
    {
      "cell_type": "code",
      "metadata": {
        "id": "N_QJOpJkB3Ff"
      },
      "source": [
        "print(train_generator.class_indices)\n",
        "print(test_generator.class_indices)"
      ],
      "execution_count": null,
      "outputs": []
    },
    {
      "cell_type": "code",
      "metadata": {
        "id": "zjDZWz5jK9pY"
      },
      "source": [
        "from keras.models import Sequential\n",
        "from keras.layers import Dense, Dropout, Flatten\n",
        "from keras.layers import Conv2D, MaxPooling2D\n",
        "\n",
        "\n",
        "model = Sequential() \n",
        "\n",
        "model.add(Conv2D(filters=32, kernel_size=(3, 3), input_shape=(150, 150, 3), padding=\"same\", activation=\"relu\"))\n",
        "model.add(MaxPooling2D(pool_size=(2,  2)))\n",
        "model.add(Conv2D(filters=64, kernel_size=(3, 3), padding=\"same\", activation=\"relu\")) \n",
        "model.add(MaxPooling2D(pool_size=(2, 2))) \n",
        "model.add(Conv2D(filters=128, kernel_size=(3, 3), padding=\"same\", activation=\"relu\"))\n",
        "model.add(MaxPooling2D(pool_size=(2, 2)))\n",
        "model.add(Conv2D(filters=256, kernel_size=(3, 3), padding=\"same\", activation=\"relu\"))\n",
        "model.add(MaxPooling2D(pool_size=(2, 2))) \n",
        "\n",
        "model.add(Flatten())\n",
        "model.add(Dense(units=512, activation=\"relu\")) \n",
        "model.add(Dropout(0.5)) \n",
        "model.add(Dense(units=12, activation=\"softmax\"))\n",
        "  \n",
        "model.summary()\n"
      ],
      "execution_count": null,
      "outputs": []
    },
    {
      "cell_type": "code",
      "metadata": {
        "id": "p_lk3345L8gV"
      },
      "source": [
        "#최적화 함수와 손실함수 지정\n",
        "model.compile(loss=\"categorical_crossentropy\", optimizer=\"adam\",metrics=[\"accuracy\"])\n",
        "\n",
        "h1 = model.fit(train_generator, epochs=10, validation_data=test_generator)"
      ],
      "execution_count": null,
      "outputs": []
    },
    {
      "cell_type": "code",
      "metadata": {
        "id": "4OeTOps8dwMv"
      },
      "source": [
        "import matplotlib.pyplot as plt\n",
        "acc = h1.history[\"accuracy\"]\n",
        "val_acc = h1.history[\"val_accuracy\"]\n",
        "plt.plot(range(1, len(acc)+1), acc, label=\"train_acc\")\n",
        "plt.plot(range(1, len(acc)+1), val_acc, label=\"test_acc\")\n",
        "plt.legend()"
      ],
      "execution_count": null,
      "outputs": []
    },
    {
      "cell_type": "code",
      "metadata": {
        "id": "gPR8RZLndBR2"
      },
      "source": [
        "loss = h1.history[\"loss\"]\n",
        "loss_acc = h1.history[\"val_loss\"]\n",
        "plt.plot(range(1, len(acc)+1), loss, label=\"train_los\")\n",
        "plt.plot(range(1, len(acc)+1), loss_acc, label=\"test_los\")\n",
        "plt.legend()"
      ],
      "execution_count": null,
      "outputs": []
    },
    {
      "cell_type": "markdown",
      "metadata": {
        "id": "_3-8oGvkbOwl"
      },
      "source": [
        ""
      ]
    },
    {
      "cell_type": "code",
      "metadata": {
        "id": "925A17OlNdpF"
      },
      "source": [
        "import tensorflow as tf\n",
        "\n",
        "converter = tf.lite.TFLiteConverter.from_keras_model(model)\n",
        "tflite_model = converter.convert()\n",
        "open('/classification/classification.tflite','wb').write(tflite_model)"
      ],
      "execution_count": null,
      "outputs": []
    }
  ]
}